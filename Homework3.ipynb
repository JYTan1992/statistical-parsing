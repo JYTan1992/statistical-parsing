{
 "cells": [
  {
   "cell_type": "markdown",
   "metadata": {},
   "source": [
    "# Homework III &ensp;&ensp;&ensp;&ensp;       Experiments with Parsing\n",
    "Matthew Stone, CS 533, Spring 2017\n",
    "<p style=\"text-align:right\">Jiaoying Tan</p>\n",
    "\n"
   ]
  },
  {
   "cell_type": "markdown",
   "metadata": {},
   "source": [
    "Ops, there is no pynotebook this time so I edited some code and created this notebook. "
   ]
  },
  {
   "cell_type": "markdown",
   "metadata": {},
   "source": [
    "NOTE: I changed the *parser.py* to *_parser.py* in order to import it. Also changed *train-parser.py* to *train_parser.py* etc."
   ]
  },
  {
   "cell_type": "code",
   "execution_count": 4,
   "metadata": {
    "collapsed": false
   },
   "outputs": [],
   "source": [
    "from train_parser import main as train_parser\n",
    "from inspect_parser import main as inspect_parser\n",
    "\n",
    "EN, en_train, en_dev = 'en', 'en-ud-trainpro.conllu', 'en-ud-devpro.conllu'\n",
    "ZH, zh_train, zh_dev = 'zh', 'zh-ud-trainpro.conll', 'zh-ud-devpro.conll'"
   ]
  },
  {
   "cell_type": "markdown",
   "metadata": {},
   "source": [
    "## 1. LEARNING EXPERIMENTS\n",
    "First play with English data."
   ]
  },
  {
   "cell_type": "code",
   "execution_count": 2,
   "metadata": {
    "collapsed": false
   },
   "outputs": [
    {
     "name": "stdout",
     "output_type": "stream",
     "text": [
      "0 0.568\n",
      "1 0.669\n",
      "2 0.712\n",
      "3 0.742\n",
      "4 0.768\n",
      "5 0.799\n",
      "6 0.815\n",
      "7 0.827\n",
      "8 0.836\n",
      "9 0.844\n",
      "10 0.850\n",
      "11 0.855\n",
      "12 0.858\n",
      "13 0.861\n",
      "14 0.865\n",
      "Averaging weights\n",
      "Saving model to en\\parser.pickle\n",
      "Parsing took 6074.000 ms\n",
      "17065 right of 20726 dependencies - accuracy: 0.823361960822\n"
     ]
    }
   ],
   "source": [
    "train_parser(EN, en_train, en_dev)"
   ]
  },
  {
   "cell_type": "markdown",
   "metadata": {},
   "source": [
    "Inspect the parsing."
   ]
  },
  {
   "cell_type": "code",
   "execution_count": 5,
   "metadata": {
    "collapsed": false
   },
   "outputs": [
    {
     "name": "stdout",
     "output_type": "stream",
     "text": [
      "Parsing took 6220.000 ms\n",
      "942 right of 1163 target moves accuracy: 0.809974\n",
      "Features of class  A 7976 seen and  1166 new\n",
      "Features of class  C 3936 seen and  694 new\n",
      "Features of class  B 9142 seen and  0 new\n",
      "Features of class  E 11620 seen and  10 new\n",
      "Features of class  D 4047 seen and  5257 new\n",
      "Features of class  F 11157 seen and  2799 new\n",
      "Features of class  0 1163 seen and  0 new\n"
     ]
    }
   ],
   "source": [
    "inspect_parser(EN, en_dev)"
   ]
  },
  {
   "cell_type": "markdown",
   "metadata": {},
   "source": [
    "Then we experiment with Chinese data"
   ]
  },
  {
   "cell_type": "code",
   "execution_count": 6,
   "metadata": {
    "collapsed": false
   },
   "outputs": [
    {
     "name": "stdout",
     "output_type": "stream",
     "text": [
      "0 0.449\n",
      "1 0.563\n",
      "2 0.629\n",
      "3 0.682\n",
      "4 0.718\n",
      "5 0.771\n",
      "6 0.796\n",
      "7 0.816\n",
      "8 0.834\n",
      "9 0.848\n",
      "10 0.855\n",
      "11 0.868\n",
      "12 0.875\n",
      "13 0.880\n",
      "14 0.884\n",
      "Averaging weights\n",
      "Saving model to zh\\parser.pickle\n",
      "Parsing took 3390.000 ms\n",
      "7744 right of 10870 dependencies - accuracy: 0.71241950322\n"
     ]
    }
   ],
   "source": [
    "train_parser(ZH, zh_train, zh_dev)"
   ]
  },
  {
   "cell_type": "code",
   "execution_count": 7,
   "metadata": {
    "collapsed": false
   },
   "outputs": [
    {
     "name": "stdout",
     "output_type": "stream",
     "text": [
      "Parsing took 3405.000 ms\n",
      "767 right of 933 target moves accuracy: 0.822079\n",
      "Features of class  A 5552 seen and  1083 new\n",
      "Features of class  C 2934 seen and  798 new\n",
      "Features of class  B 6635 seen and  0 new\n",
      "Features of class  E 9329 seen and  1 new\n",
      "Features of class  D 3217 seen and  4247 new\n",
      "Features of class  F 8723 seen and  2473 new\n",
      "Features of class  0 933 seen and  0 new\n"
     ]
    }
   ],
   "source": [
    "inspect_parser(ZH, zh_dev)"
   ]
  },
  {
   "cell_type": "markdown",
   "metadata": {},
   "source": [
    "## 2. DIAGNOSTIC EXPERIMENTS\n",
    "First I modified *main* function in *inspect_parser.py*"
   ]
  },
  {
   "cell_type": "code",
   "execution_count": 9,
   "metadata": {
    "collapsed": false
   },
   "outputs": [],
   "source": [
    "def target_contexts(words, tags, i, n, stack, parse) :\n",
    "    pass\n",
    "def main(model_dir, heldout_gold, target=target_contexts):\n",
    "    parser = Parser(load=True, model_dir=model_dir)\n",
    "    c = 0\n",
    "    t = 0\n",
    "    gold_sents = list(read_ud_conll(heldout_gold))\n",
    "    t1 = time.time()\n",
    "    stats = Stats()\n",
    "    stats.targetn = 0\n",
    "    stats.correctn = 0\n",
    "    stats.features_seen = {}\n",
    "    stats.features_unseen = {}\n",
    "    for (words, tags, gold_heads, gold_labels) in gold_sents:\n",
    "        _, heads = parser.instrumented_parse(words, gold_heads, target, stats)\n",
    "    t2 = time.time()\n",
    "    print 'Parsing took %0.3f ms' % ((t2-t1)*1000.0)\n",
    "    print stats.correctn, 'right of', stats.targetn, 'target moves',\n",
    "    print '' if not stats.targetn else ('accuracy: %f' % (float(stats.correctn)/stats.targetn))\n",
    "    for k in set(stats.features_seen.keys() + stats.features_unseen.keys()):\n",
    "        print 'Features of class ', k,\n",
    "        print '' if k not in stats.features_seen.keys() else stats.features_seen[k],\n",
    "        print 'seen and ', \n",
    "        print '' if k not in stats.features_unseen.keys() else stats.features_unseen[k],\n",
    "        print 'new'"
   ]
  },
  {
   "cell_type": "markdown",
   "metadata": {},
   "source": [
    "Then define some patterns."
   ]
  },
  {
   "cell_type": "code",
   "execution_count": 12,
   "metadata": {
    "collapsed": true
   },
   "outputs": [],
   "source": [
    "def target_p1(words, tags, i, n, stack, parse) :\n",
    "    return len(stack) >=2 and tags[stack[-1]] == 'NOUN' and tags[stack[-2]] == 'NOUN' and tags[i] == 'NOUN'\n",
    "\n",
    "def target_p2(words, tags, i, n, stack, parse) :\n",
    "    return len(stack) >=1 and tags[stack[-1]] == 'NOUN' and tags[i] == 'VERB' "
   ]
  },
  {
   "cell_type": "markdown",
   "metadata": {},
   "source": [
    "Experiment with English data"
   ]
  },
  {
   "cell_type": "code",
   "execution_count": 13,
   "metadata": {
    "collapsed": false
   },
   "outputs": [
    {
     "name": "stdout",
     "output_type": "stream",
     "text": [
      "Parsing took 6557.000 ms\n",
      "211 right of 299 target moves accuracy: 0.705686\n",
      "Features of class  A 2212 seen and  384 new\n",
      "Features of class  C 998 seen and  184 new\n",
      "Features of class  B 2596 seen and  0 new\n",
      "Features of class  E 2990 seen and  0 new\n",
      "Features of class  D 1028 seen and  1364 new\n",
      "Features of class  F 2777 seen and  811 new\n",
      "Features of class  0 299 seen and  0 new\n"
     ]
    }
   ],
   "source": [
    "inspect_parser(EN, en_dev, target_p1)"
   ]
  },
  {
   "cell_type": "code",
   "execution_count": 14,
   "metadata": {
    "collapsed": false
   },
   "outputs": [
    {
     "name": "stdout",
     "output_type": "stream",
     "text": [
      "Parsing took 6858.000 ms\n",
      "899 right of 1124 target moves accuracy: 0.799822\n",
      "Features of class  A 8079 seen and  1120 new\n",
      "Features of class  C 3820 seen and  668 new\n",
      "Features of class  B 9199 seen and  0 new\n",
      "Features of class  E 11239 seen and  1 new\n",
      "Features of class  D 4220 seen and  4772 new\n",
      "Features of class  F 10954 seen and  2534 new\n",
      "Features of class  0 1124 seen and  0 new\n"
     ]
    }
   ],
   "source": [
    "inspect_parser(EN, en_dev, target_p2)"
   ]
  },
  {
   "cell_type": "markdown",
   "metadata": {},
   "source": [
    "Experiment with Chinese data"
   ]
  },
  {
   "cell_type": "code",
   "execution_count": 15,
   "metadata": {
    "collapsed": false
   },
   "outputs": [
    {
     "name": "stdout",
     "output_type": "stream",
     "text": [
      "Parsing took 3541.000 ms\n",
      "407 right of 453 target moves accuracy: 0.898455\n",
      "Features of class  A 2677 seen and  533 new\n",
      "Features of class  C 1499 seen and  313 new\n",
      "Features of class  B 3210 seen and  0 new\n",
      "Features of class  E 4530 seen and  0 new\n",
      "Features of class  D 1842 seen and  1782 new\n",
      "Features of class  F 4453 seen and  983 new\n",
      "Features of class  0 453 seen and  0 new\n"
     ]
    }
   ],
   "source": [
    "inspect_parser(ZH, zh_dev, target_p1)"
   ]
  },
  {
   "cell_type": "code",
   "execution_count": 16,
   "metadata": {
    "collapsed": false
   },
   "outputs": [
    {
     "name": "stdout",
     "output_type": "stream",
     "text": [
      "Parsing took 3590.000 ms\n",
      "1052 right of 1371 target moves accuracy: 0.767323\n",
      "Features of class  A 8845 seen and  1525 new\n",
      "Features of class  C 4531 seen and  953 new\n",
      "Features of class  B 10370 seen and  0 new\n",
      "Features of class  E 13706 seen and  4 new\n",
      "Features of class  D 5418 seen and  5550 new\n",
      "Features of class  F 13514 seen and  2938 new\n",
      "Features of class  0 1371 seen and  0 new\n"
     ]
    }
   ],
   "source": [
    "inspect_parser(ZH, zh_dev, target_p2)"
   ]
  },
  {
   "cell_type": "markdown",
   "metadata": {},
   "source": [
    "## 3.PROGRAMMING EXPERIMENTS\n",
    "First I need to edit MOVES"
   ]
  },
  {
   "cell_type": "code",
   "execution_count": 18,
   "metadata": {
    "collapsed": true
   },
   "outputs": [],
   "source": [
    "SHIFT = 0; RIGHT = 1; LEFT = 2; REDUCE = 3;\n",
    "MOVES = (SHIFT, RIGHT, LEFT, REDUCE)"
   ]
  },
  {
   "cell_type": "markdown",
   "metadata": {},
   "source": [
    "then *transition* function"
   ]
  },
  {
   "cell_type": "code",
   "execution_count": 19,
   "metadata": {
    "collapsed": false
   },
   "outputs": [],
   "source": [
    "def transition(move, i, stack, parse):\n",
    "    if move == SHIFT:\n",
    "        stack.append(i)\n",
    "        return i + 1\n",
    "    elif move == RIGHT:\n",
    "        parse.add(stack[-1], i)\n",
    "        stack.append(i)\n",
    "        return i + 1\n",
    "    elif move == LEFT:\n",
    "        parse.add(i, stack.pop())\n",
    "        return i\n",
    "    elif move == REDUCE:\n",
    "        stack.pop()\n",
    "        return i\n",
    "    assert move in MOVES"
   ]
  },
  {
   "cell_type": "markdown",
   "metadata": {},
   "source": [
    "then func *get_valid_moves*, notice the new function needs heads at current state."
   ]
  },
  {
   "cell_type": "code",
   "execution_count": 20,
   "metadata": {
    "collapsed": false
   },
   "outputs": [],
   "source": [
    "def get_valid_moves(i, n, stack, heads):\n",
    "    moves = []\n",
    "    if (i+1) < n:\n",
    "        moves.append(SHIFT)\n",
    "    if len(stack) >= 1 and heads[stack[-1]] != None:\n",
    "        moves.append(REDUCE)\n",
    "    if len(stack) >= 1 and (i+1) < n:\n",
    "        moves.append(RIGHT)\n",
    "    if len(stack) >= 1 and heads[stack[-1]] == None:\n",
    "        moves.append(LEFT)\n",
    "    return moves"
   ]
  },
  {
   "cell_type": "markdown",
   "metadata": {},
   "source": [
    "finally, func *get_gold_moves*"
   ]
  },
  {
   "cell_type": "code",
   "execution_count": 21,
   "metadata": {
    "collapsed": false
   },
   "outputs": [],
   "source": [
    "def get_gold_moves(n0, n, stack, heads, gold):\n",
    "    valid = get_valid_moves(n0, n, stack, heads)\n",
    "    costly = set([m for m in MOVES if m not in valid])\n",
    "    if SHIFT not in costly:\n",
    "        if gold[n0] in stack or any(heads[s] == None and gold[s] == n0 for s in stack):\n",
    "            costly.add(SHIFT)\n",
    "    if REDUCE not in costly:\n",
    "        if len(stack) >= 1 and any(bh == stack[-1] for bh in gold[n0:]):\n",
    "            costly.add(REDUCE)\n",
    "    if RIGHT not in costly:\n",
    "        if gold[n0] > n0 or any(heads[s] == None and gold[s] == n0 for s in stack):\n",
    "            costly.add(RIGHT)\n",
    "    if LEFT not in costly:\n",
    "        if len(stack) >= 1 and (gold[stack[-1]] > n0 or any(bh == stack[-1] for bh in gold[n0+1:])):\n",
    "            costly.add(LEFT)\n",
    "    result = [m for m in MOVES if m not in costly]\n",
    "    return result"
   ]
  },
  {
   "cell_type": "markdown",
   "metadata": {},
   "source": [
    "Check performance on English data, modified *main* in *train_parser.py*"
   ]
  },
  {
   "cell_type": "code",
   "execution_count": 24,
   "metadata": {
    "collapsed": true
   },
   "outputs": [],
   "source": [
    "def main(model_dir, train_loc, heldout_gold, paser='_parser'):\n",
    "    module = __import__(paser, globals(), locals(), ['*'])\n",
    "    for k in dir(module):\n",
    "        globals()[k] = getattr(module, k)\n",
    "    pass"
   ]
  },
  {
   "cell_type": "code",
   "execution_count": 22,
   "metadata": {
    "collapsed": false
   },
   "outputs": [
    {
     "name": "stdout",
     "output_type": "stream",
     "text": [
      "Using arc eager parser\n",
      "0 0.556\n",
      "1 0.637\n",
      "2 0.672\n",
      "3 0.694\n",
      "4 0.710\n",
      "5 0.734\n",
      "6 0.742\n",
      "7 0.750\n",
      "8 0.753\n",
      "9 0.757\n",
      "10 0.760\n",
      "11 0.763\n",
      "12 0.763\n",
      "13 0.764\n",
      "14 0.764\n",
      "Averaging weights\n",
      "Saving model to en_eager\\parser.pickle\n",
      "Parsing took 6675.000 ms\n",
      "16712 right of 20726 dependencies - accuracy: 0.806330213259\n"
     ]
    }
   ],
   "source": [
    "train_parser('en_eager', en_train, en_dev, paser='eager_parser')"
   ]
  },
  {
   "cell_type": "markdown",
   "metadata": {},
   "source": [
    "And Chinese data"
   ]
  },
  {
   "cell_type": "code",
   "execution_count": 26,
   "metadata": {
    "collapsed": false
   },
   "outputs": [
    {
     "name": "stdout",
     "output_type": "stream",
     "text": [
      "0 0.453\n",
      "1 0.563\n",
      "2 0.621\n",
      "3 0.664\n",
      "4 0.703\n",
      "5 0.745\n",
      "6 0.767\n",
      "7 0.785\n",
      "8 0.798\n",
      "9 0.811\n",
      "10 0.818\n",
      "11 0.824\n",
      "12 0.832\n",
      "13 0.830\n",
      "14 0.835\n",
      "Averaging weights\n",
      "Saving model to zh_eager\\parser.pickle\n",
      "Parsing took 3603.000 ms\n",
      "7754 right of 10870 dependencies - accuracy: 0.713339466421\n"
     ]
    }
   ],
   "source": [
    "train_parser('zh_eager', zh_train, zh_dev, paser='eager_parser')"
   ]
  }
 ],
 "metadata": {
  "anaconda-cloud": {},
  "kernelspec": {
   "display_name": "Python [Root]",
   "language": "python",
   "name": "Python [Root]"
  },
  "language_info": {
   "codemirror_mode": {
    "name": "ipython",
    "version": 2
   },
   "file_extension": ".py",
   "mimetype": "text/x-python",
   "name": "python",
   "nbconvert_exporter": "python",
   "pygments_lexer": "ipython2",
   "version": "2.7.12"
  }
 },
 "nbformat": 4,
 "nbformat_minor": 1
}
